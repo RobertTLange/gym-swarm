{
 "cells": [
  {
   "cell_type": "markdown",
   "metadata": {},
   "source": [
    "# gym-swarm\n",
    "# Author: Robert Tjarko Lange\n",
    "## A simple test installation of the environment"
   ]
  },
  {
   "cell_type": "code",
   "execution_count": null,
   "metadata": {},
   "outputs": [
    {
     "name": "stdout",
     "output_type": "stream",
     "text": [
      "Obtaining file:///Users/rtl/Dropbox/PHD_ECN/LAB_ROTATION_2_SPREKELER/gym-swarm\n"
     ]
    }
   ],
   "source": [
    "# Install the environment from the command line\n",
    "!pip install -e ."
   ]
  },
  {
   "cell_type": "code",
   "execution_count": null,
   "metadata": {},
   "outputs": [],
   "source": [
    "# Run unit tests\n",
    "!python gym_swarm/tests/test.py"
   ]
  },
  {
   "cell_type": "code",
   "execution_count": null,
   "metadata": {},
   "outputs": [],
   "source": [
    "# Import the environment\n",
    "import gym\n",
    "import gym_swarm\n",
    "\n",
    "# Import base modules\n",
    "import time\n",
    "import numpy as np\n",
    "import matplotlib.pyplot as plt"
   ]
  },
  {
   "cell_type": "code",
   "execution_count": null,
   "metadata": {},
   "outputs": [],
   "source": [
    "# Make the environment and change the base params\n",
    "num_agents = 10\n",
    "obs_space_size=10\n",
    "\n",
    "env = gym.make(\"Swarm-v0\")\n",
    "env.set_env_parameters(num_agents, obs_space_size, verbose=True)\n",
    "state = env.reset()"
   ]
  },
  {
   "cell_type": "code",
   "execution_count": null,
   "metadata": {},
   "outputs": [],
   "source": [
    "class RandomAgents():\n",
    "    \"\"\"\n",
    "    Class for simple random agents\n",
    "    \"\"\"\n",
    "    def __init__(self, env):\n",
    "        self.num_actions = env.action_space.n\n",
    "        self.num_agents = env.num_agents\n",
    "\n",
    "    def random_action(self):\n",
    "        random_actions = np.random.randint(8, size=self.num_agents)\n",
    "        return dict(enumerate(random_actions))"
   ]
  },
  {
   "cell_type": "code",
   "execution_count": null,
   "metadata": {},
   "outputs": [],
   "source": [
    "random_agent = RandomAgents(env)\n",
    "max_steps = 10"
   ]
  },
  {
   "cell_type": "code",
   "execution_count": null,
   "metadata": {},
   "outputs": [],
   "source": [
    "# Run a few steps with the random agent and global reward\n",
    "state = env.reset()\n",
    "for i in range(max_steps):\n",
    "    action = random_agent.random_action()\n",
    "    next_state, rewards, done, _ = env.step(action, reward_type={\"attraction\": True,\n",
    "                                                                 \"repulsion\": True,\n",
    "                                                                 \"alignment\": True,\n",
    "                                                                 \"indiv_rewards\": True,\n",
    "                                                                 \"vf_size\": None})\n",
    "    state = next_state\n",
    "    print(\"Step: {}\".format(i + 1))\n",
    "    print(\"Agent-Specific Rewards: {}\".format(rewards))\n",
    "    env.render()\n",
    "    if done:\n",
    "        break"
   ]
  },
  {
   "cell_type": "code",
   "execution_count": null,
   "metadata": {},
   "outputs": [],
   "source": [
    "# Run a few steps with the random agent and global reward\n",
    "state = env.reset()\n",
    "for i in range(max_steps):\n",
    "    action = random_agent.random_action()\n",
    "    next_state, rewards, done, _ = env.step(action, reward_type={\"attraction\": False,\n",
    "                                                                 \"repulsion\": False,\n",
    "                                                                 \"alignment\": False,\n",
    "                                                                 \"indiv_rewards\": True,\n",
    "                                                                 \"vf_size\": None})\n",
    "    state = next_state\n",
    "    print(\"Step: {}\".format(i + 1))\n",
    "    print(\"Agent-Specific Rewards: {}\".format(rewards))\n",
    "    # env.render()\n",
    "    if done:\n",
    "        break"
   ]
  },
  {
   "cell_type": "code",
   "execution_count": null,
   "metadata": {},
   "outputs": [],
   "source": [
    "# Run a few steps with the random agent and global reward\n",
    "state = env.reset()\n",
    "for i in range(max_steps):\n",
    "    action = random_agent.random_action()\n",
    "    next_state, rewards, done, _ = env.step(action, reward_type={\"attraction\": True,\n",
    "                                                                 \"repulsion\": True,\n",
    "                                                                 \"alignment\": False,\n",
    "                                                                 \"indiv_rewards\": True,\n",
    "                                                                 \"vf_size\": None})\n",
    "    state = next_state\n",
    "    print(\"Step: {}\".format(i + 1))\n",
    "    print(\"Agent-Specific Rewards: {}\".format(rewards))\n",
    "    # env.render()\n",
    "    if done:\n",
    "        break"
   ]
  },
  {
   "cell_type": "code",
   "execution_count": null,
   "metadata": {},
   "outputs": [],
   "source": [
    "env.render()"
   ]
  },
  {
   "cell_type": "code",
   "execution_count": null,
   "metadata": {},
   "outputs": [],
   "source": [
    "env = gym.make(\"Swarm-v0\")\n",
    "\n",
    "agents_list = np.arange(5, 1000, 100).tolist()\n",
    "num_runs = 5\n",
    "\n",
    "mean_init_time = np.zeros((len(agents_list)))\n",
    "sd_init_time = np.zeros((len(agents_list)))\n",
    "\n",
    "mean_exec_time = np.zeros((len(agents_list)))\n",
    "sd_exec_time = np.zeros((len(agents_list)))\n",
    "\n",
    "for i, n_agents in enumerate(agents_list):\n",
    "    init_time_temp = []\n",
    "    exec_time_temp = []\n",
    "    \n",
    "    for run in range(num_runs):\n",
    "        start = time.time()\n",
    "        env.set_env_parameters(num_agents=n_agents,\n",
    "                               obs_space_size=10000,\n",
    "                               verbose=False)\n",
    "        state = env.reset()\n",
    "        total_init = time.time() - start\n",
    "        init_time_temp.append(total_init)\n",
    "\n",
    "        random_agent = RandomAgents(env)\n",
    "        action = random_agent.random_action()\n",
    "\n",
    "        start = time.time()\n",
    "        next_state, reward, done, _ = env.step(action)\n",
    "        total_exec = time.time() - start\n",
    "        exec_time_temp.append(total_exec)\n",
    "    \n",
    "    mean_init_time[i] = np.array(init_time_temp).mean()\n",
    "    sd_init_time[i] = np.array(init_time_temp).std()\n",
    "\n",
    "    mean_exec_time[i] = np.array(exec_time_temp).mean()\n",
    "    sd_exec_time[i] = np.array(exec_time_temp).std()\n"
   ]
  },
  {
   "cell_type": "code",
   "execution_count": null,
   "metadata": {},
   "outputs": [],
   "source": [
    "plt.figure(figsize=(12,10))\n",
    "plt.loglog(agents_list, mean_init_time, label=\"Initialisation Time\")\n",
    "#plt.fill_between(agents_list,\n",
    "#                 mean_init_time - 2*sd_init_time,\n",
    "#                 mean_init_time + 2*sd_init_time,\n",
    "#                 alpha=0.25)\n",
    "\n",
    "plt.loglog(agents_list, mean_exec_time, label=\"Step Execution Time\")\n",
    "#plt.fill_between(agents_list,\n",
    "#                 mean_exec_time - 2*sd_exec_time,\n",
    "#                 mean_exec_time + 2*sd_exec_time,\n",
    "#                 alpha=0.25)\n",
    "\n",
    "plt.xlabel(\"(Log) Number of Agents\")\n",
    "plt.ylabel(\"(Log) Time in Secs\")\n",
    "plt.title(\"Scalability of the Swarm Environment\")\n",
    "plt.legend(loc=2)\n",
    "\n",
    "plt.savefig(\"gym_swarm/images/scalability.png\", dpi=300)"
   ]
  },
  {
   "cell_type": "code",
   "execution_count": null,
   "metadata": {},
   "outputs": [],
   "source": []
  }
 ],
 "metadata": {
  "kernelspec": {
   "display_name": "Python3 (swarm)",
   "language": "python",
   "name": "swarm"
  },
  "language_info": {
   "codemirror_mode": {
    "name": "ipython",
    "version": 3
   },
   "file_extension": ".py",
   "mimetype": "text/x-python",
   "name": "python",
   "nbconvert_exporter": "python",
   "pygments_lexer": "ipython3",
   "version": "3.6.8"
  }
 },
 "nbformat": 4,
 "nbformat_minor": 2
}
